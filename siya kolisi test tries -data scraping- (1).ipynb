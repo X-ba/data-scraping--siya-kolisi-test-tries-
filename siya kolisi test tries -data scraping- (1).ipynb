{
 "cells": [
  {
   "cell_type": "code",
   "execution_count": 2,
   "id": "b12bf0d5-5e0d-461b-9dc2-2be62bd62653",
   "metadata": {},
   "outputs": [],
   "source": [
    "from bs4 import BeautifulSoup\n",
    "import requests\n",
    "import pandas as pd"
   ]
  },
  {
   "cell_type": "code",
   "execution_count": 3,
   "id": "d5b20f7b-9ec1-4be2-954a-fde9fec29f4e",
   "metadata": {},
   "outputs": [],
   "source": [
    "url = 'https://en.wikipedia.org/wiki/Siya_Kolisi'\n",
    "page = requests.get(url)\n",
    "soup = BeautifulSoup(page.text,'html')"
   ]
  },
  {
   "cell_type": "raw",
   "id": "766e5b29-9990-4a2d-b6a2-49a7961a2f9c",
   "metadata": {},
   "source": [
    "print(soup.prettify())"
   ]
  },
  {
   "cell_type": "code",
   "execution_count": 4,
   "id": "15686945-08d6-47a1-913c-0d8fe8628ff3",
   "metadata": {},
   "outputs": [
    {
     "data": {
      "text/plain": [
       "[<th>Tries</th>,\n",
       " <th>Opposition</th>,\n",
       " <th>Location</th>,\n",
       " <th>Venue</th>,\n",
       " <th>Competition</th>,\n",
       " <th>Date</th>,\n",
       " <th>Result\n",
       " </th>]"
      ]
     },
     "execution_count": 4,
     "metadata": {},
     "output_type": "execute_result"
    }
   ],
   "source": [
    "col_headings = soup.find_all('th')[43:50]\n",
    "col_headings"
   ]
  },
  {
   "cell_type": "code",
   "execution_count": 5,
   "id": "ef918c8c-a959-48ee-a130-99e1ab217101",
   "metadata": {},
   "outputs": [
    {
     "data": {
      "text/plain": [
       "['Tries', 'Opposition', 'Location', 'Venue', 'Competition', 'Date', 'Result']"
      ]
     },
     "execution_count": 5,
     "metadata": {},
     "output_type": "execute_result"
    }
   ],
   "source": [
    "clean_col_headings = [title.text.strip() for title in col_headings]\n",
    "clean_col_headings"
   ]
  },
  {
   "cell_type": "code",
   "execution_count": 6,
   "id": "74510488-7e34-4953-b053-b817aa04a5d2",
   "metadata": {},
   "outputs": [
    {
     "data": {
      "text/plain": [
       "<table class=\"wikitable sortable\" style=\"font-size:95%\">\n",
       "<tbody><tr>\n",
       "<th>Tries</th>\n",
       "<th>Opposition</th>\n",
       "<th>Location</th>\n",
       "<th>Venue</th>\n",
       "<th>Competition</th>\n",
       "<th>Date</th>\n",
       "<th>Result\n",
       "</th></tr>\n",
       "<tr>\n",
       "<td align=\"center\"><b>1</b></td>\n",
       "<td><span class=\"flagicon\"><span class=\"mw-image-border\" typeof=\"mw:File\"><span><img alt=\"\" class=\"mw-file-element\" data-file-height=\"600\" data-file-width=\"900\" decoding=\"async\" height=\"15\" src=\"//upload.wikimedia.org/wikipedia/en/thumb/c/c3/Flag_of_France.svg/23px-Flag_of_France.svg.png\" srcset=\"//upload.wikimedia.org/wikipedia/en/thumb/c/c3/Flag_of_France.svg/35px-Flag_of_France.svg.png 1.5x, //upload.wikimedia.org/wikipedia/en/thumb/c/c3/Flag_of_France.svg/45px-Flag_of_France.svg.png 2x\" width=\"23\"/></span></span> </span><a href=\"/wiki/France_national_rugby_union_team\" title=\"France national rugby union team\">France</a></td>\n",
       "<td><a href=\"/wiki/Durban\" title=\"Durban\">Durban</a>, South Africa</td>\n",
       "<td><a href=\"/wiki/Kings_Park_Stadium\" title=\"Kings Park Stadium\">Kings Park Stadium</a></td>\n",
       "<td><a href=\"/wiki/2017_France_rugby_union_tour_of_South_Africa\" title=\"2017 France rugby union tour of South Africa\">Test match</a></td>\n",
       "<td><span data-sort-value=\"000000002017-06-17-0000\" style=\"white-space:nowrap\">17 June 2017</span></td>\n",
       "<td class=\"yes table-yes2 notheme\" style=\"background: #9EFF9E; color: #000; vertical-align: middle; text-align: center;\">Won 37–15\n",
       "</td></tr>\n",
       "<tr>\n",
       "<td align=\"center\"><b>1</b></td>\n",
       "<td><span class=\"flagicon\"><span class=\"mw-image-border\" typeof=\"mw:File\"><span><img alt=\"\" class=\"mw-file-element\" data-file-height=\"500\" data-file-width=\"800\" decoding=\"async\" height=\"14\" src=\"//upload.wikimedia.org/wikipedia/commons/thumb/1/1a/Flag_of_Argentina.svg/23px-Flag_of_Argentina.svg.png\" srcset=\"//upload.wikimedia.org/wikipedia/commons/thumb/1/1a/Flag_of_Argentina.svg/35px-Flag_of_Argentina.svg.png 1.5x, //upload.wikimedia.org/wikipedia/commons/thumb/1/1a/Flag_of_Argentina.svg/46px-Flag_of_Argentina.svg.png 2x\" width=\"23\"/></span></span> </span><a href=\"/wiki/Argentina_national_rugby_union_team\" title=\"Argentina national rugby union team\">Argentina</a></td>\n",
       "<td><a class=\"mw-redirect\" href=\"/wiki/Port_Elizabeth\" title=\"Port Elizabeth\">Port Elizabeth</a>, South Africa</td>\n",
       "<td><a href=\"/wiki/Nelson_Mandela_Bay_Stadium\" title=\"Nelson Mandela Bay Stadium\">Nelson Mandela Bay Stadium</a></td>\n",
       "<td><a href=\"/wiki/2017_Rugby_Championship\" title=\"2017 Rugby Championship\">2017 Rugby Championship</a></td>\n",
       "<td><span data-sort-value=\"000000002017-08-19-0000\" style=\"white-space:nowrap\">19 August 2017</span></td>\n",
       "<td class=\"yes table-yes2 notheme\" style=\"background: #9EFF9E; color: #000; vertical-align: middle; text-align: center;\">Won 37–15\n",
       "</td></tr>\n",
       "<tr>\n",
       "<td align=\"center\"><b>2</b></td>\n",
       "<td><span class=\"flagicon\"><span class=\"mw-image-border\" typeof=\"mw:File\"><span><img alt=\"\" class=\"mw-file-element\" data-file-height=\"500\" data-file-width=\"800\" decoding=\"async\" height=\"14\" src=\"//upload.wikimedia.org/wikipedia/commons/thumb/1/1a/Flag_of_Argentina.svg/23px-Flag_of_Argentina.svg.png\" srcset=\"//upload.wikimedia.org/wikipedia/commons/thumb/1/1a/Flag_of_Argentina.svg/35px-Flag_of_Argentina.svg.png 1.5x, //upload.wikimedia.org/wikipedia/commons/thumb/1/1a/Flag_of_Argentina.svg/46px-Flag_of_Argentina.svg.png 2x\" width=\"23\"/></span></span> </span><a href=\"/wiki/Argentina_national_rugby_union_team\" title=\"Argentina national rugby union team\">Argentina</a></td>\n",
       "<td><a href=\"/wiki/Salta\" title=\"Salta\">Salta</a>, Argentina</td>\n",
       "<td><a href=\"/wiki/Estadio_Padre_Ernesto_Martearena\" title=\"Estadio Padre Ernesto Martearena\">Estadio Padre Ernesto Martearena</a></td>\n",
       "<td><a href=\"/wiki/2017_Rugby_Championship\" title=\"2017 Rugby Championship\">2017 Rugby Championship</a></td>\n",
       "<td><span data-sort-value=\"000000002017-08-26-0000\" style=\"white-space:nowrap\">26 August 2017</span></td>\n",
       "<td class=\"yes table-yes2 notheme\" style=\"background: #9EFF9E; color: #000; vertical-align: middle; text-align: center;\">Won 41–23\n",
       "</td></tr>\n",
       "<tr>\n",
       "<td align=\"center\"><b>1</b></td>\n",
       "<td><span class=\"flagicon\"><span class=\"mw-image-border\" typeof=\"mw:File\"><span><img alt=\"\" class=\"mw-file-element\" data-file-height=\"500\" data-file-width=\"800\" decoding=\"async\" height=\"14\" src=\"//upload.wikimedia.org/wikipedia/commons/thumb/1/1a/Flag_of_Argentina.svg/23px-Flag_of_Argentina.svg.png\" srcset=\"//upload.wikimedia.org/wikipedia/commons/thumb/1/1a/Flag_of_Argentina.svg/35px-Flag_of_Argentina.svg.png 1.5x, //upload.wikimedia.org/wikipedia/commons/thumb/1/1a/Flag_of_Argentina.svg/46px-Flag_of_Argentina.svg.png 2x\" width=\"23\"/></span></span> </span><a href=\"/wiki/Argentina_national_rugby_union_team\" title=\"Argentina national rugby union team\">Argentina</a></td>\n",
       "<td><a href=\"/wiki/Mendoza,_Argentina\" title=\"Mendoza, Argentina\">Mendoza</a>, Argentina</td>\n",
       "<td><a href=\"/wiki/Estadio_Malvinas_Argentinas\" title=\"Estadio Malvinas Argentinas\">Estadio Malvinas Argentinas</a></td>\n",
       "<td><a href=\"/wiki/2018_Rugby_Championship\" title=\"2018 Rugby Championship\">2018 Rugby Championship</a></td>\n",
       "<td><span data-sort-value=\"000000002018-08-25-0000\" style=\"white-space:nowrap\">25 August 2018</span></td>\n",
       "<td class=\"table-no\" style=\"background:#FFC7C7; color:black; vertical-align: middle; text-align: center;\">Lost 19–32\n",
       "</td></tr>\n",
       "<tr>\n",
       "<td align=\"center\"><b>1</b></td>\n",
       "<td><span class=\"flagicon\"><span class=\"mw-image-border\" typeof=\"mw:File\"><span><img alt=\"\" class=\"mw-file-element\" data-file-height=\"600\" data-file-width=\"900\" decoding=\"async\" height=\"15\" src=\"//upload.wikimedia.org/wikipedia/commons/thumb/0/00/Flag_of_Namibia.svg/23px-Flag_of_Namibia.svg.png\" srcset=\"//upload.wikimedia.org/wikipedia/commons/thumb/0/00/Flag_of_Namibia.svg/35px-Flag_of_Namibia.svg.png 1.5x, //upload.wikimedia.org/wikipedia/commons/thumb/0/00/Flag_of_Namibia.svg/45px-Flag_of_Namibia.svg.png 2x\" width=\"23\"/></span></span> </span><a href=\"/wiki/Namibia_national_rugby_union_team\" title=\"Namibia national rugby union team\">Namibia</a></td>\n",
       "<td><a href=\"/wiki/Aichi_Prefecture\" title=\"Aichi Prefecture\">Aichi Prefecture</a>, Japan</td>\n",
       "<td><a href=\"/wiki/Toyota_Stadium_(Japan)\" title=\"Toyota Stadium (Japan)\">Toyota Stadium</a></td>\n",
       "<td><a href=\"/wiki/2019_Rugby_World_Cup\" title=\"2019 Rugby World Cup\">2019 Rugby World Cup</a></td>\n",
       "<td><span data-sort-value=\"000000002019-09-28-0000\" style=\"white-space:nowrap\">28 September 2019</span></td>\n",
       "<td class=\"yes table-yes2 notheme\" style=\"background: #9EFF9E; color: #000; vertical-align: middle; text-align: center;\">Won 57–3\n",
       "</td></tr>\n",
       "<tr>\n",
       "<td align=\"center\"><b>1</b></td>\n",
       "<td><span class=\"flagicon\"><span class=\"mw-image-border\" typeof=\"mw:File\"><span><img alt=\"\" class=\"mw-file-element\" data-file-height=\"480\" data-file-width=\"800\" decoding=\"async\" height=\"14\" src=\"//upload.wikimedia.org/wikipedia/commons/thumb/d/dc/Flag_of_Wales.svg/23px-Flag_of_Wales.svg.png\" srcset=\"//upload.wikimedia.org/wikipedia/commons/thumb/d/dc/Flag_of_Wales.svg/35px-Flag_of_Wales.svg.png 1.5x, //upload.wikimedia.org/wikipedia/commons/thumb/d/dc/Flag_of_Wales.svg/46px-Flag_of_Wales.svg.png 2x\" width=\"23\"/></span></span> </span><a href=\"/wiki/Wales_national_rugby_union_team\" title=\"Wales national rugby union team\">Wales</a></td>\n",
       "<td><a href=\"/wiki/Cape_Town\" title=\"Cape Town\">Cape Town</a>, South Africa</td>\n",
       "<td><a href=\"/wiki/Cape_Town_Stadium\" title=\"Cape Town Stadium\">Cape Town Stadium</a></td>\n",
       "<td><a href=\"/wiki/2022_Wales_rugby_union_tour_of_South_Africa#3rd_test\" title=\"2022 Wales rugby union tour of South Africa\">2022 Wales tour of South Africa</a></td>\n",
       "<td><span data-sort-value=\"000000002022-07-16-0000\" style=\"white-space:nowrap\">16 July 2022</span></td>\n",
       "<td class=\"yes table-yes2 notheme\" style=\"background: #9EFF9E; color: #000; vertical-align: middle; text-align: center;\">Won 30–14\n",
       "</td></tr>\n",
       "<tr>\n",
       "<td align=\"center\"><b>1</b></td>\n",
       "<td><span class=\"flagicon\"><span class=\"mw-image-border\" typeof=\"mw:File\"><span><img alt=\"\" class=\"mw-file-element\" data-file-height=\"500\" data-file-width=\"800\" decoding=\"async\" height=\"14\" src=\"//upload.wikimedia.org/wikipedia/commons/thumb/1/1a/Flag_of_Argentina.svg/23px-Flag_of_Argentina.svg.png\" srcset=\"//upload.wikimedia.org/wikipedia/commons/thumb/1/1a/Flag_of_Argentina.svg/35px-Flag_of_Argentina.svg.png 1.5x, //upload.wikimedia.org/wikipedia/commons/thumb/1/1a/Flag_of_Argentina.svg/46px-Flag_of_Argentina.svg.png 2x\" width=\"23\"/></span></span> </span><a href=\"/wiki/Argentina_national_rugby_union_team\" title=\"Argentina national rugby union team\">Argentina</a></td>\n",
       "<td><a href=\"/wiki/Durban\" title=\"Durban\">Durban</a>, South Africa</td>\n",
       "<td><a href=\"/wiki/Kings_Park_Stadium\" title=\"Kings Park Stadium\">Kings Park Stadium</a></td>\n",
       "<td><a href=\"/wiki/2022_Rugby_Championship#Round_6\" title=\"2022 Rugby Championship\">2022 Rugby Championship</a></td>\n",
       "<td><span data-sort-value=\"000000002022-09-24-0000\" style=\"white-space:nowrap\">24 September 2022</span></td>\n",
       "<td class=\"yes table-yes2 notheme\" style=\"background: #9EFF9E; color: #000; vertical-align: middle; text-align: center;\">Won 38–21\n",
       "</td></tr>\n",
       "<tr>\n",
       "<td align=\"center\"><b>1</b></td>\n",
       "<td><span class=\"flagicon\"><span class=\"mw-image-border\" typeof=\"mw:File\"><span><img alt=\"\" class=\"mw-file-element\" data-file-height=\"600\" data-file-width=\"900\" decoding=\"async\" height=\"15\" src=\"//upload.wikimedia.org/wikipedia/en/thumb/c/c3/Flag_of_France.svg/23px-Flag_of_France.svg.png\" srcset=\"//upload.wikimedia.org/wikipedia/en/thumb/c/c3/Flag_of_France.svg/35px-Flag_of_France.svg.png 1.5x, //upload.wikimedia.org/wikipedia/en/thumb/c/c3/Flag_of_France.svg/45px-Flag_of_France.svg.png 2x\" width=\"23\"/></span></span> </span><a href=\"/wiki/France_national_rugby_union_team\" title=\"France national rugby union team\">France</a></td>\n",
       "<td><a href=\"/wiki/Marseille\" title=\"Marseille\">Marseille</a>, France</td>\n",
       "<td><a href=\"/wiki/Stade_V%C3%A9lodrome\" title=\"Stade Vélodrome\">Stade Vélodrome</a></td>\n",
       "<td><a href=\"/wiki/2022_end-of-year_rugby_union_internationals#12/13_November\" title=\"2022 end-of-year rugby union internationals\">2022 end-of-year rugby union internationals</a></td>\n",
       "<td><span data-sort-value=\"000000002022-11-12-0000\" style=\"white-space:nowrap\">12 November 2022</span></td>\n",
       "<td class=\"table-no\" style=\"background:#FFC7C7; color:black; vertical-align: middle; text-align: center;\">Lost 26–30\n",
       "</td></tr>\n",
       "<tr>\n",
       "<td align=\"center\"><b>2</b></td>\n",
       "<td><span class=\"flagicon\"><span class=\"mw-image-border\" typeof=\"mw:File\"><span><img alt=\"\" class=\"mw-file-element\" data-file-height=\"600\" data-file-width=\"1200\" decoding=\"async\" height=\"12\" src=\"//upload.wikimedia.org/wikipedia/commons/thumb/3/3e/Flag_of_New_Zealand.svg/23px-Flag_of_New_Zealand.svg.png\" srcset=\"//upload.wikimedia.org/wikipedia/commons/thumb/3/3e/Flag_of_New_Zealand.svg/35px-Flag_of_New_Zealand.svg.png 1.5x, //upload.wikimedia.org/wikipedia/commons/thumb/3/3e/Flag_of_New_Zealand.svg/46px-Flag_of_New_Zealand.svg.png 2x\" width=\"23\"/></span></span> </span><a href=\"/wiki/New_Zealand_national_rugby_union_team\" title=\"New Zealand national rugby union team\">New Zealand</a></td>\n",
       "<td><a href=\"/wiki/London\" title=\"London\">London</a>, England</td>\n",
       "<td><a href=\"/wiki/Twickenham_Stadium\" title=\"Twickenham Stadium\">Twickenham Stadium</a></td>\n",
       "<td><a href=\"/wiki/2023_Rugby_World_Cup_warm-up_matches#25/26/27_August\" title=\"2023 Rugby World Cup warm-up matches\">2023 Rugby World Cup warm-up matches</a></td>\n",
       "<td><span data-sort-value=\"000000002023-08-25-0000\" style=\"white-space:nowrap\">25 August 2023</span></td>\n",
       "<td class=\"yes table-yes2 notheme\" style=\"background: #9EFF9E; color: #000; vertical-align: middle; text-align: center;\">Won 7–35\n",
       "</td></tr>\n",
       "<tr>\n",
       "<td align=\"center\"><b>1</b></td>\n",
       "<td><span class=\"flagicon\"><span class=\"mw-image-border\" typeof=\"mw:File\"><span><img alt=\"\" class=\"mw-file-element\" data-file-height=\"256\" data-file-width=\"512\" decoding=\"async\" height=\"12\" src=\"//upload.wikimedia.org/wikipedia/commons/thumb/8/88/Flag_of_Australia_%28converted%29.svg/23px-Flag_of_Australia_%28converted%29.svg.png\" srcset=\"//upload.wikimedia.org/wikipedia/commons/thumb/8/88/Flag_of_Australia_%28converted%29.svg/35px-Flag_of_Australia_%28converted%29.svg.png 1.5x, //upload.wikimedia.org/wikipedia/commons/thumb/8/88/Flag_of_Australia_%28converted%29.svg/46px-Flag_of_Australia_%28converted%29.svg.png 2x\" width=\"23\"/></span></span> </span><a href=\"/wiki/Australia_national_rugby_union_team\" title=\"Australia national rugby union team\">Australia</a></td>\n",
       "<td><a href=\"/wiki/Brisbane\" title=\"Brisbane\">Brisbane</a>, Australia</td>\n",
       "<td><a href=\"/wiki/Lang_Park\" title=\"Lang Park\">Lang Park</a></td>\n",
       "<td><a href=\"/wiki/2024_Rugby_Championship\" title=\"2024 Rugby Championship\">2024 Rugby Championship</a></td>\n",
       "<td><span data-sort-value=\"000000002024-08-10-0000\" style=\"white-space:nowrap\">10 August 2024</span></td>\n",
       "<td class=\"yes table-yes2 notheme\" style=\"background: #9EFF9E; color: #000; vertical-align: middle; text-align: center;\">Won 7–33\n",
       "</td></tr></tbody></table>"
      ]
     },
     "execution_count": 6,
     "metadata": {},
     "output_type": "execute_result"
    }
   ],
   "source": [
    "table = soup.find_all('table', class_='wikitable')[1]\n",
    "table"
   ]
  },
  {
   "cell_type": "code",
   "execution_count": 7,
   "id": "7a93b68a-d589-426b-ba1c-155e2f05e65a",
   "metadata": {},
   "outputs": [],
   "source": [
    "df = pd.DataFrame(columns = clean_col_headings)"
   ]
  },
  {
   "cell_type": "code",
   "execution_count": 8,
   "id": "6ed1a21e-d77a-474e-ae33-22ac58963e75",
   "metadata": {},
   "outputs": [
    {
     "data": {
      "text/html": [
       "<div>\n",
       "<style scoped>\n",
       "    .dataframe tbody tr th:only-of-type {\n",
       "        vertical-align: middle;\n",
       "    }\n",
       "\n",
       "    .dataframe tbody tr th {\n",
       "        vertical-align: top;\n",
       "    }\n",
       "\n",
       "    .dataframe thead th {\n",
       "        text-align: right;\n",
       "    }\n",
       "</style>\n",
       "<table border=\"1\" class=\"dataframe\">\n",
       "  <thead>\n",
       "    <tr style=\"text-align: right;\">\n",
       "      <th></th>\n",
       "      <th>Tries</th>\n",
       "      <th>Opposition</th>\n",
       "      <th>Location</th>\n",
       "      <th>Venue</th>\n",
       "      <th>Competition</th>\n",
       "      <th>Date</th>\n",
       "      <th>Result</th>\n",
       "    </tr>\n",
       "  </thead>\n",
       "  <tbody>\n",
       "  </tbody>\n",
       "</table>\n",
       "</div>"
      ],
      "text/plain": [
       "Empty DataFrame\n",
       "Columns: [Tries, Opposition, Location, Venue, Competition, Date, Result]\n",
       "Index: []"
      ]
     },
     "execution_count": 8,
     "metadata": {},
     "output_type": "execute_result"
    }
   ],
   "source": [
    "df"
   ]
  },
  {
   "cell_type": "code",
   "execution_count": 9,
   "id": "6e4e1871-c56c-43b7-8371-3c90ce3aae4d",
   "metadata": {},
   "outputs": [],
   "source": [
    "column_data = table.find_all('tr')"
   ]
  },
  {
   "cell_type": "code",
   "execution_count": 10,
   "id": "b3fcf613-f259-43a1-a062-b0681dda9041",
   "metadata": {},
   "outputs": [
    {
     "name": "stdout",
     "output_type": "stream",
     "text": [
      "[]\n",
      "['1', 'France', 'Durban, South Africa', 'Kings Park Stadium', 'Test match', '17 June 2017', 'Won 37–15']\n",
      "['1', 'Argentina', 'Port Elizabeth, South Africa', 'Nelson Mandela Bay Stadium', '2017 Rugby Championship', '19 August 2017', 'Won 37–15']\n",
      "['2', 'Argentina', 'Salta, Argentina', 'Estadio Padre Ernesto Martearena', '2017 Rugby Championship', '26 August 2017', 'Won 41–23']\n",
      "['1', 'Argentina', 'Mendoza, Argentina', 'Estadio Malvinas Argentinas', '2018 Rugby Championship', '25 August 2018', 'Lost 19–32']\n",
      "['1', 'Namibia', 'Aichi Prefecture, Japan', 'Toyota Stadium', '2019 Rugby World Cup', '28 September 2019', 'Won 57–3']\n",
      "['1', 'Wales', 'Cape Town, South Africa', 'Cape Town Stadium', '2022 Wales tour of South Africa', '16 July 2022', 'Won 30–14']\n",
      "['1', 'Argentina', 'Durban, South Africa', 'Kings Park Stadium', '2022 Rugby Championship', '24 September 2022', 'Won 38–21']\n",
      "['1', 'France', 'Marseille, France', 'Stade Vélodrome', '2022 end-of-year rugby union internationals', '12 November 2022', 'Lost 26–30']\n",
      "['2', 'New Zealand', 'London, England', 'Twickenham Stadium', '2023 Rugby World Cup warm-up matches', '25 August 2023', 'Won 7–35']\n",
      "['1', 'Australia', 'Brisbane, Australia', 'Lang Park', '2024 Rugby Championship', '10 August 2024', 'Won 7–33']\n"
     ]
    }
   ],
   "source": [
    "for row in column_data:\n",
    "    row_data = row.find_all('td')\n",
    "    individual_row_data = [data.text.strip() for data in row_data]\n",
    "    print(individual_row_data)"
   ]
  },
  {
   "cell_type": "code",
   "execution_count": 11,
   "id": "d8ece7ba-1cd8-4d8e-a6df-d9be940bc43e",
   "metadata": {},
   "outputs": [],
   "source": [
    "\n",
    "for row in column_data[1:]:\n",
    "    row_data = row.find_all('td')\n",
    "    individual_row_data = [data.text.strip() for data in row_data]\n",
    "    length = len(df)\n",
    "    df.loc[length] = individual_row_data"
   ]
  },
  {
   "cell_type": "code",
   "execution_count": 12,
   "id": "7f185021-d615-4bab-84b4-10511bb44e62",
   "metadata": {},
   "outputs": [
    {
     "data": {
      "text/html": [
       "<div>\n",
       "<style scoped>\n",
       "    .dataframe tbody tr th:only-of-type {\n",
       "        vertical-align: middle;\n",
       "    }\n",
       "\n",
       "    .dataframe tbody tr th {\n",
       "        vertical-align: top;\n",
       "    }\n",
       "\n",
       "    .dataframe thead th {\n",
       "        text-align: right;\n",
       "    }\n",
       "</style>\n",
       "<table border=\"1\" class=\"dataframe\">\n",
       "  <thead>\n",
       "    <tr style=\"text-align: right;\">\n",
       "      <th></th>\n",
       "      <th>Tries</th>\n",
       "      <th>Opposition</th>\n",
       "      <th>Location</th>\n",
       "      <th>Venue</th>\n",
       "      <th>Competition</th>\n",
       "      <th>Date</th>\n",
       "      <th>Result</th>\n",
       "    </tr>\n",
       "  </thead>\n",
       "  <tbody>\n",
       "    <tr>\n",
       "      <th>0</th>\n",
       "      <td>1</td>\n",
       "      <td>France</td>\n",
       "      <td>Durban, South Africa</td>\n",
       "      <td>Kings Park Stadium</td>\n",
       "      <td>Test match</td>\n",
       "      <td>17 June 2017</td>\n",
       "      <td>Won 37–15</td>\n",
       "    </tr>\n",
       "    <tr>\n",
       "      <th>1</th>\n",
       "      <td>1</td>\n",
       "      <td>Argentina</td>\n",
       "      <td>Port Elizabeth, South Africa</td>\n",
       "      <td>Nelson Mandela Bay Stadium</td>\n",
       "      <td>2017 Rugby Championship</td>\n",
       "      <td>19 August 2017</td>\n",
       "      <td>Won 37–15</td>\n",
       "    </tr>\n",
       "    <tr>\n",
       "      <th>2</th>\n",
       "      <td>2</td>\n",
       "      <td>Argentina</td>\n",
       "      <td>Salta, Argentina</td>\n",
       "      <td>Estadio Padre Ernesto Martearena</td>\n",
       "      <td>2017 Rugby Championship</td>\n",
       "      <td>26 August 2017</td>\n",
       "      <td>Won 41–23</td>\n",
       "    </tr>\n",
       "    <tr>\n",
       "      <th>3</th>\n",
       "      <td>1</td>\n",
       "      <td>Argentina</td>\n",
       "      <td>Mendoza, Argentina</td>\n",
       "      <td>Estadio Malvinas Argentinas</td>\n",
       "      <td>2018 Rugby Championship</td>\n",
       "      <td>25 August 2018</td>\n",
       "      <td>Lost 19–32</td>\n",
       "    </tr>\n",
       "    <tr>\n",
       "      <th>4</th>\n",
       "      <td>1</td>\n",
       "      <td>Namibia</td>\n",
       "      <td>Aichi Prefecture, Japan</td>\n",
       "      <td>Toyota Stadium</td>\n",
       "      <td>2019 Rugby World Cup</td>\n",
       "      <td>28 September 2019</td>\n",
       "      <td>Won 57–3</td>\n",
       "    </tr>\n",
       "    <tr>\n",
       "      <th>5</th>\n",
       "      <td>1</td>\n",
       "      <td>Wales</td>\n",
       "      <td>Cape Town, South Africa</td>\n",
       "      <td>Cape Town Stadium</td>\n",
       "      <td>2022 Wales tour of South Africa</td>\n",
       "      <td>16 July 2022</td>\n",
       "      <td>Won 30–14</td>\n",
       "    </tr>\n",
       "    <tr>\n",
       "      <th>6</th>\n",
       "      <td>1</td>\n",
       "      <td>Argentina</td>\n",
       "      <td>Durban, South Africa</td>\n",
       "      <td>Kings Park Stadium</td>\n",
       "      <td>2022 Rugby Championship</td>\n",
       "      <td>24 September 2022</td>\n",
       "      <td>Won 38–21</td>\n",
       "    </tr>\n",
       "    <tr>\n",
       "      <th>7</th>\n",
       "      <td>1</td>\n",
       "      <td>France</td>\n",
       "      <td>Marseille, France</td>\n",
       "      <td>Stade Vélodrome</td>\n",
       "      <td>2022 end-of-year rugby union internationals</td>\n",
       "      <td>12 November 2022</td>\n",
       "      <td>Lost 26–30</td>\n",
       "    </tr>\n",
       "    <tr>\n",
       "      <th>8</th>\n",
       "      <td>2</td>\n",
       "      <td>New Zealand</td>\n",
       "      <td>London, England</td>\n",
       "      <td>Twickenham Stadium</td>\n",
       "      <td>2023 Rugby World Cup warm-up matches</td>\n",
       "      <td>25 August 2023</td>\n",
       "      <td>Won 7–35</td>\n",
       "    </tr>\n",
       "    <tr>\n",
       "      <th>9</th>\n",
       "      <td>1</td>\n",
       "      <td>Australia</td>\n",
       "      <td>Brisbane, Australia</td>\n",
       "      <td>Lang Park</td>\n",
       "      <td>2024 Rugby Championship</td>\n",
       "      <td>10 August 2024</td>\n",
       "      <td>Won 7–33</td>\n",
       "    </tr>\n",
       "  </tbody>\n",
       "</table>\n",
       "</div>"
      ],
      "text/plain": [
       "  Tries   Opposition                      Location  \\\n",
       "0     1       France          Durban, South Africa   \n",
       "1     1    Argentina  Port Elizabeth, South Africa   \n",
       "2     2    Argentina              Salta, Argentina   \n",
       "3     1    Argentina            Mendoza, Argentina   \n",
       "4     1      Namibia       Aichi Prefecture, Japan   \n",
       "5     1        Wales       Cape Town, South Africa   \n",
       "6     1    Argentina          Durban, South Africa   \n",
       "7     1       France             Marseille, France   \n",
       "8     2  New Zealand               London, England   \n",
       "9     1    Australia           Brisbane, Australia   \n",
       "\n",
       "                              Venue  \\\n",
       "0                Kings Park Stadium   \n",
       "1        Nelson Mandela Bay Stadium   \n",
       "2  Estadio Padre Ernesto Martearena   \n",
       "3       Estadio Malvinas Argentinas   \n",
       "4                    Toyota Stadium   \n",
       "5                 Cape Town Stadium   \n",
       "6                Kings Park Stadium   \n",
       "7                   Stade Vélodrome   \n",
       "8                Twickenham Stadium   \n",
       "9                         Lang Park   \n",
       "\n",
       "                                   Competition               Date      Result  \n",
       "0                                   Test match       17 June 2017   Won 37–15  \n",
       "1                      2017 Rugby Championship     19 August 2017   Won 37–15  \n",
       "2                      2017 Rugby Championship     26 August 2017   Won 41–23  \n",
       "3                      2018 Rugby Championship     25 August 2018  Lost 19–32  \n",
       "4                         2019 Rugby World Cup  28 September 2019    Won 57–3  \n",
       "5              2022 Wales tour of South Africa       16 July 2022   Won 30–14  \n",
       "6                      2022 Rugby Championship  24 September 2022   Won 38–21  \n",
       "7  2022 end-of-year rugby union internationals   12 November 2022  Lost 26–30  \n",
       "8         2023 Rugby World Cup warm-up matches     25 August 2023    Won 7–35  \n",
       "9                      2024 Rugby Championship     10 August 2024    Won 7–33  "
      ]
     },
     "execution_count": 12,
     "metadata": {},
     "output_type": "execute_result"
    }
   ],
   "source": [
    "df"
   ]
  },
  {
   "cell_type": "code",
   "execution_count": 13,
   "id": "1bb093c1-98f3-4004-b66e-bf7539a8a122",
   "metadata": {},
   "outputs": [],
   "source": [
    "df.to_csv(r'C:\\Users\\User\\Documents\\MySQL and python\\Python\\siya kolisi test tries.csv',index=False)\n"
   ]
  },
  {
   "cell_type": "code",
   "execution_count": null,
   "id": "1a297a2a-f87b-4e1c-93e3-d06b421a9798",
   "metadata": {},
   "outputs": [],
   "source": []
  }
 ],
 "metadata": {
  "kernelspec": {
   "display_name": "Python 3 (ipykernel)",
   "language": "python",
   "name": "python3"
  },
  "language_info": {
   "codemirror_mode": {
    "name": "ipython",
    "version": 3
   },
   "file_extension": ".py",
   "mimetype": "text/x-python",
   "name": "python",
   "nbconvert_exporter": "python",
   "pygments_lexer": "ipython3",
   "version": "3.12.7"
  }
 },
 "nbformat": 4,
 "nbformat_minor": 5
}
